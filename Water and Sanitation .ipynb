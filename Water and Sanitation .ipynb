{
 "cells": [
  {
   "cell_type": "code",
   "execution_count": 8,
   "metadata": {},
   "outputs": [],
   "source": [
    "import pandas as pd\n",
    "import matplotlib as mp\n",
    "import matplotlib.pyplot as plt\n",
    "import numpy as np"
   ]
  },
  {
   "cell_type": "code",
   "execution_count": 27,
   "metadata": {},
   "outputs": [
    {
     "data": {
      "text/html": [
       "<div>\n",
       "<style scoped>\n",
       "    .dataframe tbody tr th:only-of-type {\n",
       "        vertical-align: middle;\n",
       "    }\n",
       "\n",
       "    .dataframe tbody tr th {\n",
       "        vertical-align: top;\n",
       "    }\n",
       "\n",
       "    .dataframe thead th {\n",
       "        text-align: right;\n",
       "    }\n",
       "</style>\n",
       "<table border=\"1\" class=\"dataframe\">\n",
       "  <thead>\n",
       "    <tr style=\"text-align: right;\">\n",
       "      <th></th>\n",
       "      <th>States</th>\n",
       "      <th>2001</th>\n",
       "      <th>2011</th>\n",
       "      <th>1</th>\n",
       "      <th>2</th>\n",
       "      <th>%homeless no. Total 2011</th>\n",
       "      <th>%homeless no.rural 2011</th>\n",
       "      <th>%homeless no. urban 2011</th>\n",
       "    </tr>\n",
       "  </thead>\n",
       "  <tbody>\n",
       "    <tr>\n",
       "      <th>0</th>\n",
       "      <td>ASSAM</td>\n",
       "      <td>59.57</td>\n",
       "      <td>61.5</td>\n",
       "      <td>36.4</td>\n",
       "      <td>17.0</td>\n",
       "      <td>0.330</td>\n",
       "      <td>0.240</td>\n",
       "      <td>0.090</td>\n",
       "    </tr>\n",
       "    <tr>\n",
       "      <th>1</th>\n",
       "      <td>BIHAR</td>\n",
       "      <td>13.91</td>\n",
       "      <td>18.6</td>\n",
       "      <td>48.3</td>\n",
       "      <td>20.8</td>\n",
       "      <td>0.980</td>\n",
       "      <td>0.680</td>\n",
       "      <td>0.300</td>\n",
       "    </tr>\n",
       "    <tr>\n",
       "      <th>2</th>\n",
       "      <td>CHHATTISGARH</td>\n",
       "      <td>5.18</td>\n",
       "      <td>14.8</td>\n",
       "      <td>28.7</td>\n",
       "      <td>10.9</td>\n",
       "      <td>0.720</td>\n",
       "      <td>0.470</td>\n",
       "      <td>0.250</td>\n",
       "    </tr>\n",
       "    <tr>\n",
       "      <th>3</th>\n",
       "      <td>D &amp; N HAVELI</td>\n",
       "      <td>17.32</td>\n",
       "      <td>29.3</td>\n",
       "      <td>37.6</td>\n",
       "      <td>23.1</td>\n",
       "      <td>2.320</td>\n",
       "      <td>0.010</td>\n",
       "      <td>2.300</td>\n",
       "    </tr>\n",
       "    <tr>\n",
       "      <th>4</th>\n",
       "      <td>GOA</td>\n",
       "      <td>48.21</td>\n",
       "      <td>72.6</td>\n",
       "      <td>20.1</td>\n",
       "      <td>21.9</td>\n",
       "      <td>0.080</td>\n",
       "      <td>0.030</td>\n",
       "      <td>0.040</td>\n",
       "    </tr>\n",
       "    <tr>\n",
       "      <th>5</th>\n",
       "      <td>GUJARAT</td>\n",
       "      <td>21.65</td>\n",
       "      <td>34.2</td>\n",
       "      <td>38.5</td>\n",
       "      <td>26.4</td>\n",
       "      <td>3.690</td>\n",
       "      <td>1.290</td>\n",
       "      <td>2.400</td>\n",
       "    </tr>\n",
       "    <tr>\n",
       "      <th>6</th>\n",
       "      <td>HARYANA</td>\n",
       "      <td>28.66</td>\n",
       "      <td>57.7</td>\n",
       "      <td>34.0</td>\n",
       "      <td>21.2</td>\n",
       "      <td>1.160</td>\n",
       "      <td>0.570</td>\n",
       "      <td>0.590</td>\n",
       "    </tr>\n",
       "    <tr>\n",
       "      <th>7</th>\n",
       "      <td>HIMACHAL PRADESH</td>\n",
       "      <td>27.72</td>\n",
       "      <td>67.5</td>\n",
       "      <td>26.3</td>\n",
       "      <td>13.7</td>\n",
       "      <td>0.090</td>\n",
       "      <td>0.070</td>\n",
       "      <td>0.020</td>\n",
       "    </tr>\n",
       "    <tr>\n",
       "      <th>8</th>\n",
       "      <td>JAM:MU &amp; KASHMIR</td>\n",
       "      <td>41.80</td>\n",
       "      <td>41.7</td>\n",
       "      <td>27.4</td>\n",
       "      <td>12.1</td>\n",
       "      <td>0.310</td>\n",
       "      <td>0.140</td>\n",
       "      <td>0.160</td>\n",
       "    </tr>\n",
       "    <tr>\n",
       "      <th>9</th>\n",
       "      <td>JHARICHAND</td>\n",
       "      <td>6.57</td>\n",
       "      <td>8.3</td>\n",
       "      <td>45.3</td>\n",
       "      <td>29.0</td>\n",
       "      <td>0.610</td>\n",
       "      <td>0.390</td>\n",
       "      <td>0.220</td>\n",
       "    </tr>\n",
       "    <tr>\n",
       "      <th>10</th>\n",
       "      <td>KARNATAKA</td>\n",
       "      <td>17.40</td>\n",
       "      <td>31.9</td>\n",
       "      <td>36.2</td>\n",
       "      <td>26.1</td>\n",
       "      <td>2.140</td>\n",
       "      <td>1.050</td>\n",
       "      <td>1.090</td>\n",
       "    </tr>\n",
       "    <tr>\n",
       "      <th>11</th>\n",
       "      <td>KERALA</td>\n",
       "      <td>81.33</td>\n",
       "      <td>94.4</td>\n",
       "      <td>19.7</td>\n",
       "      <td>15.7</td>\n",
       "      <td>0.570</td>\n",
       "      <td>0.180</td>\n",
       "      <td>0.390</td>\n",
       "    </tr>\n",
       "    <tr>\n",
       "      <th>12</th>\n",
       "      <td>MADHYA PRADESH</td>\n",
       "      <td>8.94</td>\n",
       "      <td>13.6</td>\n",
       "      <td>27.0</td>\n",
       "      <td>13.8</td>\n",
       "      <td>3.780</td>\n",
       "      <td>1.930</td>\n",
       "      <td>1.850</td>\n",
       "    </tr>\n",
       "    <tr>\n",
       "      <th>13</th>\n",
       "      <td>MAHARASHTRA</td>\n",
       "      <td>18.21</td>\n",
       "      <td>44.2</td>\n",
       "      <td>42.0</td>\n",
       "      <td>25.8</td>\n",
       "      <td>5.750</td>\n",
       "      <td>2.480</td>\n",
       "      <td>3.270</td>\n",
       "    </tr>\n",
       "    <tr>\n",
       "      <th>14</th>\n",
       "      <td>MANIPUR</td>\n",
       "      <td>77.50</td>\n",
       "      <td>87.7</td>\n",
       "      <td>34.4</td>\n",
       "      <td>25.6</td>\n",
       "      <td>0.070</td>\n",
       "      <td>0.040</td>\n",
       "      <td>0.030</td>\n",
       "    </tr>\n",
       "    <tr>\n",
       "      <th>15</th>\n",
       "      <td>MEGHALAYA</td>\n",
       "      <td>40.10</td>\n",
       "      <td>56.9</td>\n",
       "      <td>28.9</td>\n",
       "      <td>6.8</td>\n",
       "      <td>0.030</td>\n",
       "      <td>0.020</td>\n",
       "      <td>0.006</td>\n",
       "    </tr>\n",
       "    <tr>\n",
       "      <th>16</th>\n",
       "      <td>MIZORAM</td>\n",
       "      <td>79.74</td>\n",
       "      <td>87.1</td>\n",
       "      <td>43.8</td>\n",
       "      <td>15.3</td>\n",
       "      <td>0.004</td>\n",
       "      <td>0.001</td>\n",
       "      <td>0.002</td>\n",
       "    </tr>\n",
       "    <tr>\n",
       "      <th>17</th>\n",
       "      <td>NAGALAND</td>\n",
       "      <td>64.64</td>\n",
       "      <td>77.7</td>\n",
       "      <td>28.0</td>\n",
       "      <td>6.1</td>\n",
       "      <td>0.020</td>\n",
       "      <td>0.010</td>\n",
       "      <td>0.010</td>\n",
       "    </tr>\n",
       "    <tr>\n",
       "      <th>18</th>\n",
       "      <td>ORISSA</td>\n",
       "      <td>7.71</td>\n",
       "      <td>15.3</td>\n",
       "      <td>28.6</td>\n",
       "      <td>11.2</td>\n",
       "      <td>1.030</td>\n",
       "      <td>0.560</td>\n",
       "      <td>0.480</td>\n",
       "    </tr>\n",
       "    <tr>\n",
       "      <th>19</th>\n",
       "      <td>PUDUCHERRY</td>\n",
       "      <td>21.42</td>\n",
       "      <td>40.4</td>\n",
       "      <td>34.1</td>\n",
       "      <td>20.4</td>\n",
       "      <td>0.980</td>\n",
       "      <td>0.540</td>\n",
       "      <td>0.440</td>\n",
       "    </tr>\n",
       "    <tr>\n",
       "      <th>20</th>\n",
       "      <td>PUNJAB</td>\n",
       "      <td>40.91</td>\n",
       "      <td>71.9</td>\n",
       "      <td>25.7</td>\n",
       "      <td>15.6</td>\n",
       "      <td>0.370</td>\n",
       "      <td>0.210</td>\n",
       "      <td>0.160</td>\n",
       "    </tr>\n",
       "    <tr>\n",
       "      <th>21</th>\n",
       "      <td>RAJASTHAN</td>\n",
       "      <td>14.61</td>\n",
       "      <td>20.1</td>\n",
       "      <td>23.7</td>\n",
       "      <td>23.6</td>\n",
       "      <td>0.008</td>\n",
       "      <td>0.006</td>\n",
       "      <td>0.001</td>\n",
       "    </tr>\n",
       "    <tr>\n",
       "      <th>22</th>\n",
       "      <td>SIKKIM</td>\n",
       "      <td>59.35</td>\n",
       "      <td>85.1</td>\n",
       "      <td>39.1</td>\n",
       "      <td>23.0</td>\n",
       "      <td>1.530</td>\n",
       "      <td>0.430</td>\n",
       "      <td>1.100</td>\n",
       "    </tr>\n",
       "    <tr>\n",
       "      <th>23</th>\n",
       "      <td>TAMIL NADU</td>\n",
       "      <td>14.36</td>\n",
       "      <td>26.7</td>\n",
       "      <td>29.6</td>\n",
       "      <td>14.2</td>\n",
       "      <td>0.080</td>\n",
       "      <td>0.050</td>\n",
       "      <td>0.040</td>\n",
       "    </tr>\n",
       "    <tr>\n",
       "      <th>24</th>\n",
       "      <td>TRIPURA</td>\n",
       "      <td>77.93</td>\n",
       "      <td>84.6</td>\n",
       "      <td>27.1</td>\n",
       "      <td>19.7</td>\n",
       "      <td>0.330</td>\n",
       "      <td>0.140</td>\n",
       "      <td>0.190</td>\n",
       "    </tr>\n",
       "    <tr>\n",
       "      <th>25</th>\n",
       "      <td>UTTAR PRADESH</td>\n",
       "      <td>19.23</td>\n",
       "      <td>22.9</td>\n",
       "      <td>28.1</td>\n",
       "      <td>18.0</td>\n",
       "      <td>7.240</td>\n",
       "      <td>3.120</td>\n",
       "      <td>4.120</td>\n",
       "    </tr>\n",
       "    <tr>\n",
       "      <th>26</th>\n",
       "      <td>UTTARAKHAND</td>\n",
       "      <td>31.60</td>\n",
       "      <td>55.0</td>\n",
       "      <td>24.3</td>\n",
       "      <td>16.8</td>\n",
       "      <td>2.860</td>\n",
       "      <td>0.760</td>\n",
       "      <td>2.110</td>\n",
       "    </tr>\n",
       "  </tbody>\n",
       "</table>\n",
       "</div>"
      ],
      "text/plain": [
       "              States   2001  2011     1     2  %homeless no. Total 2011  \\\n",
       "0              ASSAM  59.57  61.5  36.4  17.0                     0.330   \n",
       "1              BIHAR  13.91  18.6  48.3  20.8                     0.980   \n",
       "2       CHHATTISGARH   5.18  14.8  28.7  10.9                     0.720   \n",
       "3       D & N HAVELI  17.32  29.3  37.6  23.1                     2.320   \n",
       "4                GOA  48.21  72.6  20.1  21.9                     0.080   \n",
       "5            GUJARAT  21.65  34.2  38.5  26.4                     3.690   \n",
       "6            HARYANA  28.66  57.7  34.0  21.2                     1.160   \n",
       "7   HIMACHAL PRADESH  27.72  67.5  26.3  13.7                     0.090   \n",
       "8   JAM:MU & KASHMIR  41.80  41.7  27.4  12.1                     0.310   \n",
       "9         JHARICHAND   6.57   8.3  45.3  29.0                     0.610   \n",
       "10         KARNATAKA  17.40  31.9  36.2  26.1                     2.140   \n",
       "11            KERALA  81.33  94.4  19.7  15.7                     0.570   \n",
       "12    MADHYA PRADESH   8.94  13.6  27.0  13.8                     3.780   \n",
       "13       MAHARASHTRA  18.21  44.2  42.0  25.8                     5.750   \n",
       "14           MANIPUR  77.50  87.7  34.4  25.6                     0.070   \n",
       "15         MEGHALAYA  40.10  56.9  28.9   6.8                     0.030   \n",
       "16           MIZORAM  79.74  87.1  43.8  15.3                     0.004   \n",
       "17          NAGALAND  64.64  77.7  28.0   6.1                     0.020   \n",
       "18            ORISSA   7.71  15.3  28.6  11.2                     1.030   \n",
       "19        PUDUCHERRY  21.42  40.4  34.1  20.4                     0.980   \n",
       "20            PUNJAB  40.91  71.9  25.7  15.6                     0.370   \n",
       "21         RAJASTHAN  14.61  20.1  23.7  23.6                     0.008   \n",
       "22            SIKKIM  59.35  85.1  39.1  23.0                     1.530   \n",
       "23        TAMIL NADU  14.36  26.7  29.6  14.2                     0.080   \n",
       "24           TRIPURA  77.93  84.6  27.1  19.7                     0.330   \n",
       "25     UTTAR PRADESH  19.23  22.9  28.1  18.0                     7.240   \n",
       "26       UTTARAKHAND  31.60  55.0  24.3  16.8                     2.860   \n",
       "\n",
       "    %homeless no.rural 2011  %homeless no. urban 2011  \n",
       "0                     0.240                     0.090  \n",
       "1                     0.680                     0.300  \n",
       "2                     0.470                     0.250  \n",
       "3                     0.010                     2.300  \n",
       "4                     0.030                     0.040  \n",
       "5                     1.290                     2.400  \n",
       "6                     0.570                     0.590  \n",
       "7                     0.070                     0.020  \n",
       "8                     0.140                     0.160  \n",
       "9                     0.390                     0.220  \n",
       "10                    1.050                     1.090  \n",
       "11                    0.180                     0.390  \n",
       "12                    1.930                     1.850  \n",
       "13                    2.480                     3.270  \n",
       "14                    0.040                     0.030  \n",
       "15                    0.020                     0.006  \n",
       "16                    0.001                     0.002  \n",
       "17                    0.010                     0.010  \n",
       "18                    0.560                     0.480  \n",
       "19                    0.540                     0.440  \n",
       "20                    0.210                     0.160  \n",
       "21                    0.006                     0.001  \n",
       "22                    0.430                     1.100  \n",
       "23                    0.050                     0.040  \n",
       "24                    0.140                     0.190  \n",
       "25                    3.120                     4.120  \n",
       "26                    0.760                     2.110  "
      ]
     },
     "execution_count": 27,
     "metadata": {},
     "output_type": "execute_result"
    }
   ],
   "source": [
    "#Note, I have taken Stunted as 1 and Wasted as 2 in my csv file due to the key error\n",
    "#code for importing csv file\n",
    "a = pd.read_csv(\"final.csv\")\n",
    "a"
   ]
  },
  {
   "cell_type": "code",
   "execution_count": 19,
   "metadata": {},
   "outputs": [
    {
     "data": {
      "image/png": "[encoded data removed]",
      "text/plain": [
       "<Figure size 1152x432 with 1 Axes>"
      ]
     },
     "metadata": {
      "needs_background": "light"
     },
     "output_type": "display_data"
    }
   ],
   "source": [
    "#Bar-graph between Water and Sanitation(2001) and Water and Sanitation(2011)\n",
    "fig=plt.figure(figsize=(16,6))\n",
    "ax=fig.add_subplot(111)\n",
    "xpos = np.arange(27)\n",
    "p1 = plt.bar(xpos, a[\"2001\"], width=0.55, align='edge')\n",
    "p2 = plt.bar(xpos, a[\"2011\"], width=0.35)\n",
    "\n",
    "plt.ylabel('% of water and sanitation facilities in 2001')\n",
    "plt.xlabel('% of water and sanitation facilities in 2011')\n",
    "plt.xticks(xpos, range(1,28))\n",
    "plt.title('Comparison of water and sanitation rate in 2001 and 2011')\n",
    "plt.legend((p1[0], p2[0]), ('% of water and sanitation facilities in 2011', '% of water and sanitation facilities in 2001'))\n",
    "\n",
    "plt.show()"
   ]
  },
  {
   "cell_type": "code",
   "execution_count": 20,
   "metadata": {},
   "outputs": [
    {
     "data": {
      "image/png": "[encoded data removed]",
      "text/plain": [
       "<Figure size 1152x432 with 1 Axes>"
      ]
     },
     "metadata": {
      "needs_background": "light"
     },
     "output_type": "display_data"
    }
   ],
   "source": [
    "#Bar-graph between homeless no. urban 2011 and %homeless no.rural 2011\n",
    "fig=plt.figure(figsize=(16,6))\n",
    "ax=fig.add_subplot(111)\n",
    "xpos = np.arange(27)\n",
    "p1 = plt.bar(xpos, a[\"%homeless no. urban 2011\"], width=0.55, align='edge')\n",
    "p2 = plt.bar(xpos, a[\"%homeless no.rural 2011\"], width=0.35)\n",
    "\n",
    "plt.ylabel('%homeless no.rural 2011')\n",
    "plt.xlabel('%homeless no. urban 2011')\n",
    "plt.xticks(xpos, range(1,28))\n",
    "plt.title('Comparison of homelessness rate in urban and rural')\n",
    "plt.legend((p1[0], p2[0]), ('%homeless no.rural 2011', '%homeless no. urban 2011'))\n",
    "\n",
    "plt.show()"
   ]
  },
  {
   "cell_type": "code",
   "execution_count": 37,
   "metadata": {},
   "outputs": [
    {
     "data": {
      "image/png": "[encoded data removed]",
      "text/plain": [
       "<Figure size 1152x432 with 1 Axes>"
      ]
     },
     "metadata": {
      "needs_background": "light"
     },
     "output_type": "display_data"
    }
   ],
   "source": [
    "#Note, I have taken Stunted as 1 and Wasted as 2 in my csv file due to the key error\n",
    "#Bar-graph between %Stunted and %homeless no.rural 2011\n",
    "fig=plt.figure(figsize=(16,6))\n",
    "ax=fig.add_subplot(111)\n",
    "xpos = np.arange(27)\n",
    "p1 = plt.bar(xpos, a[\"1\"], width=0.55, align='edge')\n",
    "p2 = plt.bar(xpos, a[\"%homeless no.rural 2011\"], width=0.35)\n",
    "\n",
    "plt.ylabel('%Stunted')\n",
    "plt.xlabel('%homeless no.rural 2011')\n",
    "plt.xticks(xpos, range(1,28))\n",
    "plt.title('Comparison of homelessness rate in rural to stunted children')\n",
    "plt.legend((p1[0], p2[0]), ('%Stunted', '%homeless no.rural 2011'))\n",
    "\n",
    "plt.show()"
   ]
  },
  {
   "cell_type": "code",
   "execution_count": 38,
   "metadata": {},
   "outputs": [
    {
     "data": {
      "image/png": "[encoded data removed]",
      "text/plain": [
       "<Figure size 1152x432 with 1 Axes>"
      ]
     },
     "metadata": {
      "needs_background": "light"
     },
     "output_type": "display_data"
    }
   ],
   "source": [
    "#Note, I have taken Stunted as 1 and Wasted as 2 in my csv file due to the key error\n",
    "#Bar-graph between Stunted and %homeless no. urban 2011\n",
    "fig=plt.figure(figsize=(16,6))\n",
    "ax=fig.add_subplot(111)\n",
    "xpos = np.arange(27)\n",
    "p1 = plt.bar(xpos, a[\"1\"], width=0.55, align='edge')\n",
    "p2 = plt.bar(xpos, a[\"%homeless no. urban 2011\"], width=0.35)\n",
    "plt.ylabel('%Stunted')\n",
    "plt.xlabel('%homeless no. urban 2011')\n",
    "plt.xticks(xpos, range(1,28))\n",
    "plt.title('Comparison of homelessness rate in urban to stunted children')\n",
    "plt.legend((p1[0], p2[0]), ('%Stunted', '%homeless no. urban 2011'))\n",
    "\n",
    "plt.show()"
   ]
  },
  {
   "cell_type": "code",
   "execution_count": 30,
   "metadata": {},
   "outputs": [
    {
     "data": {
      "image/png": "[encoded data removed]",
      "text/plain": [
       "<Figure size 1152x432 with 1 Axes>"
      ]
     },
     "metadata": {
      "needs_background": "light"
     },
     "output_type": "display_data"
    }
   ],
   "source": [
    "#Note, I have taken Stunted as 1 and Wasted as 2 in my csv file due to the key error\n",
    "#Bar-graph between Stunted and %homeless no. rural 2011\n",
    "fig=plt.figure(figsize=(16,6))\n",
    "ax=fig.add_subplot(111)\n",
    "xpos = np.arange(27)\n",
    "p1 = plt.bar(xpos, a[\"2\"], width=0.55, align='edge')\n",
    "p2 = plt.bar(xpos, a[\"%homeless no.rural 2011\"], width=0.35)\n",
    "\n",
    "plt.ylabel('% of Wasted')\n",
    "plt.xlabel('%homeless no.rural 2011')\n",
    "plt.xticks(xpos, range(1,28))\n",
    "plt.title('Comparison of homelessness rate in rural to stunted children')\n",
    "plt.legend((p1[0], p2[0]), ('%Wasted', '%homeless no.rural 2011'))\n",
    "\n",
    "plt.show()"
   ]
  },
  {
   "cell_type": "code",
   "execution_count": 29,
   "metadata": {},
   "outputs": [
    {
     "data": {
      "image/png": "[encoded data removed]",
      "text/plain": [
       "<Figure size 1152x432 with 1 Axes>"
      ]
     },
     "metadata": {
      "needs_background": "light"
     },
     "output_type": "display_data"
    }
   ],
   "source": [
    "#Note, I have taken Stunted as 1 and Wasted as 2 in my csv file due to the key error\n",
    "#Bar-graph between Wasted and %homeless no. urban 2011\n",
    "fig=plt.figure(figsize=(16,6))\n",
    "ax=fig.add_subplot(111)\n",
    "xpos = np.arange(27)\n",
    "p1 = plt.bar(xpos, a[\"2\"], width=0.55, align='edge')\n",
    "p2 = plt.bar(xpos, a[\"%homeless no. urban 2011\"], width=0.35)\n",
    "\n",
    "plt.ylabel('%Wasted')\n",
    "plt.xlabel('%homeless no. urban 2011')\n",
    "plt.xticks(xpos, range(1,28))\n",
    "plt.title('Comparison of homelessness rate in urban to stunted children')\n",
    "plt.legend((p1[0], p2[0]), ('%Wasted', '%homeless no. urban 2011'))\n",
    "\n",
    "plt.show()"
   ]
  },
  {
   "cell_type": "code",
   "execution_count": 34,
   "metadata": {},
   "outputs": [
    {
     "name": "stdout",
     "output_type": "stream",
     "text": [
      "correlation is -0.3860622205947937\n"
     ]
    }
   ],
   "source": [
    "#correlation between water and sanitation in 2011 and homelessness in 2011\n",
    "x=a['2001'].corr(a['%homeless no. Total 2011'])\n",
    "print(\"correlation is\", x)"
   ]
  },
  {
   "cell_type": "code",
   "execution_count": 36,
   "metadata": {},
   "outputs": [
    {
     "name": "stdout",
     "output_type": "stream",
     "text": [
      "correlation is -0.3598220205640307\n"
     ]
    }
   ],
   "source": [
    "#correlation between water and sanitation in 2001 and homelessness in 2011\n",
    "y=a['2011'].corr(a['%homeless no. Total 2011'])\n",
    "print(\"correlation is\", y)"
   ]
  },
  {
   "cell_type": "code",
   "execution_count": 39,
   "metadata": {},
   "outputs": [
    {
     "name": "stdout",
     "output_type": "stream",
     "text": [
      "correlation is 0.1556404975514145\n"
     ]
    }
   ],
   "source": [
    "#Note, I have taken Stunted as 1 and Wasted as 2 in my csv file due to the key error\n",
    "#correlation between Stunted and homelessness in 2011\n",
    "z=a['1'].corr(a['%homeless no. Total 2011'])\n",
    "print(\"correlation is\", z)"
   ]
  },
  {
   "cell_type": "code",
   "execution_count": 41,
   "metadata": {},
   "outputs": [
    {
     "name": "stdout",
     "output_type": "stream",
     "text": [
      "correlation is 0.2790012436095091\n"
     ]
    }
   ],
   "source": [
    "#Note, I have taken Stunted as 1 and Wasted as 2 in my csv file because of the key error\n",
    "#correlation between Wasted and homelessness in 2011\n",
    "m=a['2'].corr(a['%homeless no. Total 2011'])\n",
    "print(\"correlation is\", m)"
   ]
  },
  {
   "cell_type": "code",
   "execution_count": 51,
   "metadata": {},
   "outputs": [
    {
     "name": "stdout",
     "output_type": "stream",
     "text": [
      "Mean(1) =  48.951851851851856 \n",
      "Standard Deviation(1) =  744.6656695156695\n",
      "Mean(2) =  35.02111111111111 \n",
      "Standard Deviation(2) =  622.4009871794872\n"
     ]
    }
   ],
   "source": [
    "n = 35\n",
    "mean1 = a['2011'].mean()\n",
    "std1 = a['2011'].var()\n",
    "\n",
    "print(\"Mean(1) = \",mean1,\"\\nStandard Deviation(1) = \", std1)\n",
    "\n",
    "mean2 = a['2001'].mean()\n",
    "std2 = a['2001'].var()\n",
    "print(\"Mean(2) = \",mean2,\"\\nStandard Deviation(2) = \", std2)\n",
    "\n"
   ]
  },
  {
   "cell_type": "code",
   "execution_count": 47,
   "metadata": {},
   "outputs": [],
   "source": [
    "#Double mean test \n",
    "x̄1 = 48.95\n",
    "x̄2 = 35.02\n",
    "𝛿 = 0\n",
    "σ1 = 27.28\n",
    "σ2 = 24.94\n",
    "\n"
   ]
  },
  {
   "cell_type": "code",
   "execution_count": 49,
   "metadata": {},
   "outputs": [
    {
     "name": "stdout",
     "output_type": "stream",
     "text": [
      "6.5479693224606805\n"
     ]
    }
   ],
   "source": [
    "#z test formula implementation \n",
    "i = (x̄1-x̄2-𝛿)\n",
    "t = ((((27.28)**2)/27) - (((24.94)**2)/27))**0.5\n",
    "z = i/t\n",
    "print(z)"
   ]
  },
  {
   "cell_type": "code",
   "execution_count": null,
   "metadata": {},
   "outputs": [],
   "source": []
  }
 ],
 "metadata": {
  "kernelspec": {
   "display_name": "Python 3",
   "language": "python",
   "name": "python3"
  },
  "language_info": {
   "codemirror_mode": {
    "name": "ipython",
    "version": 3
   },
   "file_extension": ".py",
   "mimetype": "text/x-python",
   "name": "python",
   "nbconvert_exporter": "python",
   "pygments_lexer": "ipython3",
   "version": "3.7.0"
  }
 },
 "nbformat": 4,
 "nbformat_minor": 2
}
